{
 "cells": [
  {
   "cell_type": "code",
   "execution_count": 11,
   "metadata": {},
   "outputs": [],
   "source": [
    "# %%\n",
    "import pickle\n",
    "from time import time\n",
    "\n",
    "from sklearn.model_selection import train_test_split\n",
    "from sklearn.feature_extraction.text import TfidfVectorizer\n",
    "from sklearn.feature_selection import SelectPercentile, f_classif\n",
    "from sklearn.naive_bayes import GaussianNB"
   ]
  },
  {
   "cell_type": "code",
   "execution_count": 12,
   "metadata": {},
   "outputs": [
    {
     "name": "stdout",
     "output_type": "stream",
     "text": [
      "In ipython\n"
     ]
    }
   ],
   "source": [
    "try:\n",
    "    __IPYTHON__\n",
    "except NameError:\n",
    "    print(\"Not in ipython\")\n",
    "    words_file = \"./data/word_data.pkl\"\n",
    "    authors_file = \"./data/email_authors.pkl\"\n",
    "else:\n",
    "    print(\"In ipython\")\n",
    "    words_file = \"./data/word_data.pkl\"\n",
    "    authors_file = \"./data/email_authors.pkl\"\n"
   ]
  },
  {
   "cell_type": "code",
   "execution_count": 13,
   "metadata": {},
   "outputs": [],
   "source": [
    "authors_file_handler = open(authors_file, \"rb\")\n",
    "authors = pickle.load(authors_file_handler)\n",
    "authors_file_handler.close()\n",
    "\n",
    "words_file_handler = open(words_file, \"rb\")\n",
    "words = pickle.load(words_file_handler)\n",
    "words_file_handler.close()"
   ]
  },
  {
   "cell_type": "code",
   "execution_count": 14,
   "metadata": {},
   "outputs": [],
   "source": [
    "features_train, features_test, labels_train, labels_test = train_test_split(\n",
    "    words, authors, test_size=0.1, random_state=10)\n"
   ]
  },
  {
   "cell_type": "code",
   "execution_count": null,
   "metadata": {},
   "outputs": [],
   "source": []
  },
  {
   "cell_type": "code",
   "execution_count": null,
   "metadata": {},
   "outputs": [],
   "source": []
  },
  {
   "cell_type": "code",
   "execution_count": null,
   "metadata": {},
   "outputs": [],
   "source": []
  },
  {
   "cell_type": "code",
   "execution_count": null,
   "metadata": {},
   "outputs": [],
   "source": []
  },
  {
   "cell_type": "code",
   "execution_count": null,
   "metadata": {},
   "outputs": [],
   "source": []
  },
  {
   "cell_type": "code",
   "execution_count": null,
   "metadata": {},
   "outputs": [],
   "source": []
  },
  {
   "cell_type": "code",
   "execution_count": 15,
   "metadata": {},
   "outputs": [],
   "source": [
    "\n",
    "vectorizer = TfidfVectorizer(sublinear_tf=True, max_df=0.5,\n",
    "                             stop_words='english')\n",
    "features_train = vectorizer.fit_transform(features_train)\n",
    "features_test = vectorizer.transform(features_test)"
   ]
  },
  {
   "cell_type": "code",
   "execution_count": 16,
   "metadata": {},
   "outputs": [],
   "source": [
    "# Reduce the amount of features because the text has too many features (words)\n",
    "selector = SelectPercentile(f_classif, percentile=10)\n",
    "selector.fit(features_train, labels_train)\n",
    "features_train = selector.transform(features_train).toarray()\n",
    "features_test = selector.transform(features_test).toarray()\n"
   ]
  },
  {
   "cell_type": "code",
   "execution_count": 17,
   "metadata": {},
   "outputs": [
    {
     "name": "stdout",
     "output_type": "stream",
     "text": [
      "\n",
      "No. of Chris training emails: 7909\n",
      "No. of Sara training emails: 7911\n"
     ]
    }
   ],
   "source": [
    "# Info on the data\n",
    "print(\"\\nNo. of Chris training emails:\", sum(labels_train))\n",
    "print(\"No. of Sara training emails:\", len(labels_train)-sum(labels_train))\n",
    "\n"
   ]
  },
  {
   "cell_type": "code",
   "execution_count": 18,
   "metadata": {},
   "outputs": [
    {
     "name": "stdout",
     "output_type": "stream",
     "text": [
      "\n",
      "Training time: 1.1s\n",
      "Prediction time (train): 1.149s\n",
      "Prediction time (test): 0.128s\n",
      "\n",
      "Train set score: 0.9785082174462706\n",
      "Test set score: 0.9783845278725825\n"
     ]
    }
   ],
   "source": [
    "t0 = time()\n",
    "model = GaussianNB()\n",
    "model.fit(features_train, labels_train)\n",
    "print(f\"\\nTraining time: {round(time()-t0, 3)}s\")\n",
    "t0 = time()\n",
    "score_train = model.score(features_train, labels_train)\n",
    "print(f\"Prediction time (train): {round(time()-t0, 3)}s\")\n",
    "t0 = time()\n",
    "score_test = model.score(features_test, labels_test)\n",
    "print(f\"Prediction time (test): {round(time()-t0, 3)}s\")\n",
    "\n",
    "print(\"\\nTrain set score:\", score_train)\n",
    "print(\"Test set score:\", score_test)"
   ]
  },
  {
   "cell_type": "code",
   "execution_count": null,
   "metadata": {},
   "outputs": [],
   "source": []
  }
 ],
 "metadata": {
  "kernelspec": {
   "display_name": "Python 3",
   "language": "python",
   "name": "python3"
  },
  "language_info": {
   "codemirror_mode": {
    "name": "ipython",
    "version": 3
   },
   "file_extension": ".py",
   "mimetype": "text/x-python",
   "name": "python",
   "nbconvert_exporter": "python",
   "pygments_lexer": "ipython3",
   "version": "3.6.5"
  }
 },
 "nbformat": 4,
 "nbformat_minor": 2
}
